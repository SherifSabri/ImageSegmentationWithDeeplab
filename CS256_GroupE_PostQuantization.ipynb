{
  "nbformat": 4,
  "nbformat_minor": 0,
  "metadata": {
    "colab": {
      "name": "CS256-PostQuantization.ipynb",
      "provenance": [],
      "collapsed_sections": [],
      "toc_visible": true
    },
    "kernelspec": {
      "name": "python3",
      "display_name": "Python 3"
    }
  },
  "cells": [
    {
      "cell_type": "markdown",
      "metadata": {
        "id": "WqEL_JA5eOrL",
        "colab_type": "text"
      },
      "source": [
        "# CS256 - Post-Training-Quantization Script (fine-tuning)"
      ]
    },
    {
      "cell_type": "markdown",
      "metadata": {
        "id": "nxYZW_nMe-Fv",
        "colab_type": "text"
      },
      "source": [
        "### first clone the repo"
      ]
    },
    {
      "cell_type": "code",
      "metadata": {
        "id": "nEBCIPuPeTid",
        "colab_type": "code",
        "colab": {
          "base_uri": "https://localhost:8080/",
          "height": 153
        },
        "outputId": "a3df5dbc-ca74-4687-a42f-5a4d7be3fe39"
      },
      "source": [
        "!git clone https://github.com/SherifSabri/ImageSegmentationWithDeeplab.git"
      ],
      "execution_count": 1,
      "outputs": [
        {
          "output_type": "stream",
          "text": [
            "Cloning into 'ImageSegmentationWithDeeplab'...\n",
            "remote: Enumerating objects: 3, done.\u001b[K\n",
            "remote: Counting objects: 100% (3/3), done.\u001b[K\n",
            "remote: Compressing objects: 100% (3/3), done.\u001b[K\n",
            "remote: Total 734 (delta 0), reused 2 (delta 0), pack-reused 731\u001b[K\n",
            "Receiving objects: 100% (734/734), 172.33 MiB | 37.40 MiB/s, done.\n",
            "Resolving deltas: 100% (154/154), done.\n",
            "Checking out files: 100% (586/586), done.\n"
          ],
          "name": "stdout"
        }
      ]
    },
    {
      "cell_type": "markdown",
      "metadata": {
        "id": "ytocdBSFfBi3",
        "colab_type": "text"
      },
      "source": [
        "### move to the deeplab working directory"
      ]
    },
    {
      "cell_type": "code",
      "metadata": {
        "id": "-7lifb2Semf5",
        "colab_type": "code",
        "colab": {
          "base_uri": "https://localhost:8080/",
          "height": 34
        },
        "outputId": "0cf545e9-46f9-471c-b46d-5ff4d6240f00"
      },
      "source": [
        "%cd /content/ImageSegmentationWithDeeplab/models/research/deeplab"
      ],
      "execution_count": 2,
      "outputs": [
        {
          "output_type": "stream",
          "text": [
            "/content/ImageSegmentationWithDeeplab/models/research/deeplab\n"
          ],
          "name": "stdout"
        }
      ]
    },
    {
      "cell_type": "markdown",
      "metadata": {
        "id": "fqc2W_l0fGar",
        "colab_type": "text"
      },
      "source": [
        "### finetune_mobilenetv2.sh script will do \n",
        "\n",
        "A. prep float32 model\n",
        " 1.   fine-tuning on the pre-trained model\n",
        " 2.   evaluation on the fine-tuned model (where mIOUs printed)\n",
        " 3.   freeze the trained weights into pb file\n",
        "\n",
        "B. quantization while converting pb to tflite"
      ]
    },
    {
      "cell_type": "code",
      "metadata": {
        "id": "hhMIYNxxet1J",
        "colab_type": "code",
        "colab": {
          "base_uri": "https://localhost:8080/",
          "height": 1000
        },
        "outputId": "fc6c5408-131f-49aa-8407-f7171c070242"
      },
      "source": [
        "!cat finetune_mobilenetv2.sh"
      ],
      "execution_count": 4,
      "outputs": [
        {
          "output_type": "stream",
          "text": [
            "# Exit immediately if a command exits with a non-zero status.\n",
            "set -e\n",
            "\n",
            "# Move one-level up to tensorflow/models/research directory.\n",
            "cd ..\n",
            "\n",
            "# Update PYTHONPATH.\n",
            "export PYTHONPATH=$PYTHONPATH:`pwd`:`pwd`/slim\n",
            "\n",
            "# Set up the working environment.\n",
            "CURRENT_DIR=$(pwd)\n",
            "WORK_DIR=\"${CURRENT_DIR}/deeplab\"\n",
            "\n",
            "#####################################################\n",
            "#####################################################\n",
            "#####################################################\n",
            "#for NUM_ITERATIONS in 1 10 100 1000 10000\n",
            "for NUM_ITERATIONS in 1\n",
            "do\n",
            "python ${WORK_DIR}/train.py \\\n",
            "  --train_split=\"trainval\" \\\n",
            "  --model_variant=\"mobilenet_v2\" \\\n",
            "  --output_stride=16 \\\n",
            "  --train_crop_size=\"513,513\" \\\n",
            "  --train_batch_size=4 \\\n",
            "  --training_number_of_steps=${NUM_ITERATIONS} \\\n",
            "  --fine_tune_batch_norm=true \\\n",
            "  --tf_initial_checkpoint=\"$WORK_DIR/datasets/pascal_voc_seg/init_models/deeplabv3_mnv2_pascal_train_aug/model.ckpt-30000\" \\\n",
            "  --train_logdir=\"$WORK_DIR/postQ/FT-${NUM_ITERATIONS}\" \\\n",
            "  --dataset_dir=\"$WORK_DIR/datasets/pascal_voc_seg/tfrecord\"\n",
            " #--logtostderr \\\n",
            "\n",
            "\n",
            "echo \"Evalulation on FT-\"$NUM_ITERATIONS\n",
            "\n",
            "# Run evaluation. This performs eval over the full val split (1449 images) and\n",
            "# will take a while.\n",
            "# Using the provided checkpoint, one should expect mIOU=75.34%.\n",
            "python ${WORK_DIR}/eval.py \\\n",
            "  --eval_split=\"val\" \\\n",
            "  --model_variant=\"mobilenet_v2\" \\\n",
            "  --eval_crop_size=\"513,513\" \\\n",
            "  --checkpoint_dir=\"$WORK_DIR/postQ/FT-${NUM_ITERATIONS}\" \\\n",
            "  --eval_logdir=\"$WORK_DIR/postQ/Evals\" \\\n",
            "  --dataset_dir=\"$WORK_DIR/datasets/pascal_voc_seg/tfrecord\"\n",
            "  --max_number_of_evaluations=1\n",
            "  #--logtostderr \\\n",
            "\n",
            "echo \"Freezing the Weight to .pb file for FT-\"$NUM_ITERATIONS\n",
            "python ${WORK_DIR}/export_model.py \\\n",
            "  --checkpoint_path=\"$WORK_DIR/postQ/FT-${NUM_ITERATIONS}/model.ckpt-${NUM_ITERATIONS}\" \\\n",
            "  --export_path=\"$WORK_DIR/postQ/FT-${NUM_ITERATIONS}/frozen_inference_graph.pb\" \\\n",
            "  --model_variant=\"mobilenet_v2\" \\\n",
            "  --num_classes=21 \\\n",
            "  --crop_size=513 \\\n",
            "  --crop_size=513 \\\n",
            "  --inference_scales=1.0\n",
            "  #--logtostderr \\\n",
            "done\n",
            "#####################################################\n",
            "#####################################################\n",
            "#####################################################\n",
            "\n",
            "#####################################################\n",
            "#####################################################\n",
            "#####################################################\n",
            "#for NUM_ITERATIONS in \"NO\" 1 10 100 1000 10000\n",
            "for NUM_ITERATIONS in 1\n",
            "do\n",
            "tflite_convert \\\n",
            "  --graph_def_file=\"$WORK_DIR/postQ/FT-${NUM_ITERATIONS}/frozen_inference_graph.pb\" \\\n",
            "  --output_file=\"$WORK_DIR/postQ/FT-${NUM_ITERATIONS}/postQuant_FT${NUM_ITERATIONS}_FLOAT.tflite\" \\\n",
            "  --post_training_quantize \\\n",
            "  --inference_type=FLOAT \\\n",
            "  --output_format=TFLITE \\\n",
            "  --input_shape=1,513,513,3 \\\n",
            "  --input_arrays=\"MobilenetV2/MobilenetV2/input\" \\\n",
            "  --mean_values=128 \\\n",
            "  --std_dev_values=127 \\\n",
            "  --change_concat_input_ranges=true \\\n",
            "  --output_arrays=\"ArgMax\"\n",
            "\n",
            "tflite_convert \\\n",
            "  --graph_def_file=\"$WORK_DIR/postQ/FT-${NUM_ITERATIONS}/frozen_inference_graph.pb\" \\\n",
            "  --output_file=\"$WORK_DIR/postQ/FT-${NUM_ITERATIONS}/postQuant_FT${NUM_ITERATIONS}_FLOAT_minmax.tflite\" \\\n",
            "  --post_training_quantize \\\n",
            "  --inference_type=FLOAT \\\n",
            "  --output_format=TFLITE \\\n",
            "  --input_shape=1,513,513,3 \\\n",
            "  --input_arrays=\"MobilenetV2/MobilenetV2/input\" \\\n",
            "  --mean_values=128 \\\n",
            "  --std_dev_values=127 \\\n",
            "  --default_ranges_min=0 \\\n",
            "  --default_ranges_max=6 \\\n",
            "  --change_concat_input_ranges=true \\\n",
            "  --output_arrays=\"ArgMax\"\n",
            "\n",
            "tflite_convert \\\n",
            "  --graph_def_file=\"$WORK_DIR/postQ/FT-${NUM_ITERATIONS}/frozen_inference_graph.pb\" \\\n",
            "  --output_file=\"$WORK_DIR/postQ/FT-${NUM_ITERATIONS}/postQuant_FT${NUM_ITERATIONS}_float16_minmax.tflite\" \\\n",
            "  --quantize_to_float16 \\\n",
            "  --inference_type=FLOAT \\\n",
            "  --output_format=TFLITE \\\n",
            "  --input_shape=1,513,513,3 \\\n",
            "  --input_arrays=\"MobilenetV2/MobilenetV2/input\" \\\n",
            "  --mean_values=128 \\\n",
            "  --std_dev_values=127 \\\n",
            "  --default_ranges_min=0 \\\n",
            "  --default_ranges_max=6 \\\n",
            "  --change_concat_input_ranges=true \\\n",
            "  --output_arrays=\"ArgMax\"\n",
            "  #--post_training_quantize \\\n",
            "\n",
            "done\n",
            "exit\n",
            "\n"
          ],
          "name": "stdout"
        }
      ]
    }
  ]
}